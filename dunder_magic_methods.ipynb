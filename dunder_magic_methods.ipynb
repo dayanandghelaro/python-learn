{
 "cells": [
  {
   "cell_type": "markdown",
   "id": "f3fdc99e",
   "metadata": {},
   "source": [
    "## `Dunder` (`Magic` Methods)"
   ]
  },
  {
   "cell_type": "markdown",
   "id": "0eeebc4d",
   "metadata": {},
   "source": [
    "In `Python`, <b>method names</b> having <i>leading and trailing</i> <u><b>double underscores</b></u> are reserved for special purpose like `__init__`, `__len__`, `__str__` , etc. These methods are called `dunder methods` where `dunder` stands for `Double Underscores`. These methods are also known as `magic methods` but are not magical at all!\n",
    "\n",
    "To view all methods of any class call `dir(classname)` command, it'll list all methods of `classname` class.\n",
    "\n",
    "\n",
    "* `__init__`: this method is called when object is initialized.\n",
    "* `__new__`: this method is called when object is created.\n",
    "* `__str__`: this method is called when `print` method is called on object as `print(object)`.\n",
    "* `__repr__`: this method is called when inspecting it in interpreter.\n",
    "* `__call__`: object invocation.\n",
    "\n",
    "### Iteration Operators\n",
    "* `__len__`: this method is called when `len` method is called on object as `len(object)`.\n",
    "* `__getitem__`: this method allows `[] indexer operator` .\n",
    "* `__setitem__`: this method also allows `[] indexer operator`.\n",
    "* `__next__`:\n",
    "* `__iter__`:\n",
    "\n",
    "### Comparision Methods\n",
    "* `__eq__`: Equal to.\n",
    "* `__lt__`: Less than.\n",
    "* `__le__`: Less than or equal to.\n",
    "* `__gt__`: Greater than.\n",
    "* `__ge__`: Greater than or equal to.\n",
    "\n",
    "\n",
    "### Other Methods\n",
    "\n",
    "* `__class__`:\n",
    "* `__dir__`: this will list all methods of `class` when invoked like `dir(ClassName)`.\n",
    "* `__delattr__`: this will delete attribute of class; is invoked as `del ClassName.attribute`.\n",
    "* `__dict__`:\n",
    "* `__getattribute__`:\n",
    "* `__doc__`:\n",
    "* `__format__`:\n",
    "* `__hash__`:\n",
    "* `__init_subclass__`:\n",
    "* `__module__`:\n",
    "* `__ne__`:\n",
    "* `__setattr__`:\n",
    "* `__setitem__`:\n",
    "* `__sizeof__`:\n",
    "* `__subclasshook__`:\n",
    "* `__weakref__`:\n",
    "* `__reduce__`:\n",
    "* `__reduce_ex__`:\n",
    "* `append`:\n",
    "* `insert`:\n",
    "\n",
    "\n"
   ]
  },
  {
   "cell_type": "markdown",
   "id": "e3427ce6",
   "metadata": {},
   "source": [
    "### `__init__` method"
   ]
  },
  {
   "cell_type": "code",
   "execution_count": 1,
   "id": "a489e981",
   "metadata": {},
   "outputs": [
    {
     "name": "stdout",
     "output_type": "stream",
     "text": [
      "<__main__.Person object at 0x106b0f2d0>\n"
     ]
    }
   ],
   "source": [
    "class Person:\n",
    "    pass\n",
    "obj = Person()\n",
    "print(obj)"
   ]
  },
  {
   "cell_type": "code",
   "execution_count": 2,
   "id": "a71f35dd",
   "metadata": {},
   "outputs": [
    {
     "name": "stdout",
     "output_type": "stream",
     "text": [
      "Dayanand\n",
      "23\n",
      "<__main__.Person object at 0x106b7d110>\n"
     ]
    }
   ],
   "source": [
    "class Person:\n",
    "    def __init__(self, name, age):\n",
    "        self.name = name\n",
    "        self.age = age\n",
    "obj = Person(\"Dayanand\", 23)\n",
    "print(obj.name)\n",
    "print(obj.age)\n",
    "print(obj)"
   ]
  },
  {
   "cell_type": "markdown",
   "id": "6c1f4c4c",
   "metadata": {},
   "source": [
    "### `__str__` method\n",
    "* It's override to return a printable string of user-defined class.\n"
   ]
  },
  {
   "cell_type": "code",
   "execution_count": 5,
   "id": "97bfd346",
   "metadata": {},
   "outputs": [
    {
     "name": "stdout",
     "output_type": "stream",
     "text": [
      "Object without modifying __str__ method:  <__main__.Person object at 0x106b81e10>\n",
      "Object after modifying __str__ method:  Name: Dayanand\t Age: 23\n"
     ]
    }
   ],
   "source": [
    "class Person:\n",
    "    def __init__(self, name, age):\n",
    "        self.name = name\n",
    "        self.age = age\n",
    "    \n",
    "obj = Person(\"Dayanand\", 23)\n",
    "print(\"Object without modifying __str__ method: \",obj)\n",
    "\n",
    "class Person:\n",
    "    def __init__(self, name, age):\n",
    "        self.name = name\n",
    "        self.age = age\n",
    "    \n",
    "    def __str__(self):\n",
    "        return \"Name: {}\\t Age: {}\".format(self.name, self.age)\n",
    "obj = Person(\"Dayanand\", 23)\n",
    "print(\"Object after modifying __str__ method: \",obj)"
   ]
  },
  {
   "cell_type": "code",
   "execution_count": 6,
   "id": "252dca02",
   "metadata": {},
   "outputs": [
    {
     "data": {
      "text/plain": [
       "<__main__.Person at 0x106b86290>"
      ]
     },
     "execution_count": 6,
     "metadata": {},
     "output_type": "execute_result"
    }
   ],
   "source": [
    "obj # do you see still object shows its id (let's deal with that too.)"
   ]
  },
  {
   "cell_type": "markdown",
   "id": "c6e8f4f8",
   "metadata": {},
   "source": [
    "### `__repr__` method\n",
    "* It's invoked when obj is inspected in `interpreter` session.\n",
    "* It's mostly used for debugging and development.\n"
   ]
  },
  {
   "cell_type": "code",
   "execution_count": 8,
   "id": "d08e1010",
   "metadata": {},
   "outputs": [
    {
     "name": "stdout",
     "output_type": "stream",
     "text": [
      "Print statement to understand __str__ invoking\n",
      "Name: Dayanand\t Age: 23\n"
     ]
    }
   ],
   "source": [
    "class Person:\n",
    "    def __init__(self, name, age):\n",
    "        self.name = name\n",
    "        self.age = age\n",
    "    \n",
    "    def __str__(self):\n",
    "        print(\"Print statement to understand __str__ invoking\")\n",
    "        return \"Name: {}\\t Age: {}\".format(self.name, self.age)\n",
    "    \n",
    "    def __repr__(self):\n",
    "        print(\"Print statement to understand __repr__ invoking\")\n",
    "        return \"Name: {}\\t Age: {}\".format(self.name, self.name)\n",
    "obj = Person(\"Dayanand\", 23)\n",
    "print(obj)\n"
   ]
  },
  {
   "cell_type": "code",
   "execution_count": 9,
   "id": "0d4f7375",
   "metadata": {},
   "outputs": [
    {
     "name": "stdout",
     "output_type": "stream",
     "text": [
      "Print statement to understand __repr__ invoking\n"
     ]
    },
    {
     "data": {
      "text/plain": [
       "Name: Dayanand\t Age: Dayanand"
      ]
     },
     "execution_count": 9,
     "metadata": {},
     "output_type": "execute_result"
    }
   ],
   "source": [
    "obj"
   ]
  },
  {
   "cell_type": "markdown",
   "id": "52688c92",
   "metadata": {},
   "source": [
    "### Iteration Operators\n",
    "* `__len__`: override to return length.\n",
    "* `__setitem__`: override to enable `[] slicing or indexer operator`; it sets/updates item value.\n",
    "* `__getitem__`: override to enable `[] slicing or indexer operator`; it gets item value."
   ]
  },
  {
   "cell_type": "code",
   "execution_count": 10,
   "id": "3b7421ba",
   "metadata": {},
   "outputs": [],
   "source": [
    "class CustomList:\n",
    "    def __init__(self, number):\n",
    "        self.list = list(range(number))\n",
    "custom_list = CustomList(5)"
   ]
  },
  {
   "cell_type": "code",
   "execution_count": 15,
   "id": "17d988ea",
   "metadata": {},
   "outputs": [
    {
     "name": "stdout",
     "output_type": "stream",
     "text": [
      "<__main__.CustomList object at 0x106b81f10>\n"
     ]
    }
   ],
   "source": [
    "print(custom_list)"
   ]
  },
  {
   "cell_type": "code",
   "execution_count": 11,
   "id": "ccf1a4b2",
   "metadata": {},
   "outputs": [
    {
     "data": {
      "text/plain": [
       "[0, 1, 2, 3, 4]"
      ]
     },
     "execution_count": 11,
     "metadata": {},
     "output_type": "execute_result"
    }
   ],
   "source": [
    "custom_list.list"
   ]
  },
  {
   "cell_type": "code",
   "execution_count": 12,
   "id": "89a966c6",
   "metadata": {},
   "outputs": [
    {
     "ename": "TypeError",
     "evalue": "'CustomList' object is not subscriptable",
     "output_type": "error",
     "traceback": [
      "\u001b[0;31m---------------------------------------------------------------------------\u001b[0m",
      "\u001b[0;31mTypeError\u001b[0m                                 Traceback (most recent call last)",
      "\u001b[0;32m<ipython-input-12-e33707bbb8a5>\u001b[0m in \u001b[0;36m<module>\u001b[0;34m\u001b[0m\n\u001b[0;32m----> 1\u001b[0;31m \u001b[0mcustom_list\u001b[0m\u001b[0;34m[\u001b[0m\u001b[0;36m0\u001b[0m\u001b[0;34m]\u001b[0m\u001b[0;34m\u001b[0m\u001b[0;34m\u001b[0m\u001b[0m\n\u001b[0m",
      "\u001b[0;31mTypeError\u001b[0m: 'CustomList' object is not subscriptable"
     ]
    }
   ],
   "source": [
    "custom_list[0]"
   ]
  },
  {
   "cell_type": "code",
   "execution_count": 13,
   "id": "d74afee3",
   "metadata": {},
   "outputs": [
    {
     "ename": "TypeError",
     "evalue": "object of type 'CustomList' has no len()",
     "output_type": "error",
     "traceback": [
      "\u001b[0;31m---------------------------------------------------------------------------\u001b[0m",
      "\u001b[0;31mTypeError\u001b[0m                                 Traceback (most recent call last)",
      "\u001b[0;32m<ipython-input-13-e0ad9c755c31>\u001b[0m in \u001b[0;36m<module>\u001b[0;34m\u001b[0m\n\u001b[0;32m----> 1\u001b[0;31m \u001b[0mlen\u001b[0m\u001b[0;34m(\u001b[0m\u001b[0mcustom_list\u001b[0m\u001b[0;34m)\u001b[0m\u001b[0;34m\u001b[0m\u001b[0;34m\u001b[0m\u001b[0m\n\u001b[0m",
      "\u001b[0;31mTypeError\u001b[0m: object of type 'CustomList' has no len()"
     ]
    }
   ],
   "source": [
    "len(custom_list)"
   ]
  },
  {
   "cell_type": "code",
   "execution_count": 14,
   "id": "fd73d3f2",
   "metadata": {},
   "outputs": [
    {
     "ename": "TypeError",
     "evalue": "'CustomList' object is not iterable",
     "output_type": "error",
     "traceback": [
      "\u001b[0;31m---------------------------------------------------------------------------\u001b[0m",
      "\u001b[0;31mTypeError\u001b[0m                                 Traceback (most recent call last)",
      "\u001b[0;32m<ipython-input-14-8f9f1b4ba5d1>\u001b[0m in \u001b[0;36m<module>\u001b[0;34m\u001b[0m\n\u001b[0;32m----> 1\u001b[0;31m \u001b[0;32mfor\u001b[0m \u001b[0mitem\u001b[0m \u001b[0;32min\u001b[0m \u001b[0mcustom_list\u001b[0m\u001b[0;34m:\u001b[0m\u001b[0;34m\u001b[0m\u001b[0;34m\u001b[0m\u001b[0m\n\u001b[0m\u001b[1;32m      2\u001b[0m     \u001b[0mprint\u001b[0m\u001b[0;34m(\u001b[0m\u001b[0mitem\u001b[0m\u001b[0;34m)\u001b[0m\u001b[0;34m\u001b[0m\u001b[0;34m\u001b[0m\u001b[0m\n",
      "\u001b[0;31mTypeError\u001b[0m: 'CustomList' object is not iterable"
     ]
    }
   ],
   "source": [
    "for item in custom_list:\n",
    "    print(item)"
   ]
  },
  {
   "cell_type": "code",
   "execution_count": 37,
   "id": "ca9a50ae",
   "metadata": {},
   "outputs": [],
   "source": [
    "class CustomList:\n",
    "    def __init__(self, number):\n",
    "        self.list = list(range(number))\n",
    "    \n",
    "    def __getitem__(self, index):\n",
    "        return self.list[index]\n",
    "\n",
    "    def __setitem__(self, index, value):\n",
    "        self.list[index] = value\n",
    "    \n",
    "    def __len__(self):\n",
    "        return len(self.list)\n",
    "\n",
    "    def __str__(self):\n",
    "        return str(self.list)\n",
    "    \n",
    "    def __repr__(self):\n",
    "        return str(self.list)\n",
    "custom_list = CustomList(5)"
   ]
  },
  {
   "cell_type": "code",
   "execution_count": 38,
   "id": "35623e3b",
   "metadata": {},
   "outputs": [
    {
     "name": "stdout",
     "output_type": "stream",
     "text": [
      "[0, 1, 2, 3, 4]\n"
     ]
    }
   ],
   "source": [
    "print(custom_list)"
   ]
  },
  {
   "cell_type": "code",
   "execution_count": 39,
   "id": "bc23bd64",
   "metadata": {},
   "outputs": [
    {
     "data": {
      "text/plain": [
       "[0, 1, 2, 3, 4]"
      ]
     },
     "execution_count": 39,
     "metadata": {},
     "output_type": "execute_result"
    }
   ],
   "source": [
    "custom_list"
   ]
  },
  {
   "cell_type": "code",
   "execution_count": 40,
   "id": "5e126d4b",
   "metadata": {},
   "outputs": [
    {
     "data": {
      "text/plain": [
       "3"
      ]
     },
     "execution_count": 40,
     "metadata": {},
     "output_type": "execute_result"
    }
   ],
   "source": [
    "custom_list[3]"
   ]
  },
  {
   "cell_type": "code",
   "execution_count": 41,
   "id": "dbf0eda2",
   "metadata": {},
   "outputs": [
    {
     "data": {
      "text/plain": [
       "5"
      ]
     },
     "execution_count": 41,
     "metadata": {},
     "output_type": "execute_result"
    }
   ],
   "source": [
    "len(custom_list)"
   ]
  },
  {
   "cell_type": "code",
   "execution_count": 42,
   "id": "849ecd1b",
   "metadata": {},
   "outputs": [
    {
     "name": "stdout",
     "output_type": "stream",
     "text": [
      "0\n",
      "1\n",
      "2\n",
      "3\n",
      "4\n"
     ]
    }
   ],
   "source": [
    "for item in custom_list:\n",
    "    print(item)"
   ]
  },
  {
   "cell_type": "code",
   "execution_count": 43,
   "id": "5c510934",
   "metadata": {},
   "outputs": [
    {
     "ename": "AttributeError",
     "evalue": "'CustomList' object has no attribute 'append'",
     "output_type": "error",
     "traceback": [
      "\u001b[0;31m---------------------------------------------------------------------------\u001b[0m",
      "\u001b[0;31mAttributeError\u001b[0m                            Traceback (most recent call last)",
      "\u001b[0;32m<ipython-input-43-44e30a567988>\u001b[0m in \u001b[0;36m<module>\u001b[0;34m\u001b[0m\n\u001b[0;32m----> 1\u001b[0;31m \u001b[0mcustom_list\u001b[0m\u001b[0;34m.\u001b[0m\u001b[0mappend\u001b[0m\u001b[0;34m(\u001b[0m\u001b[0;36m100\u001b[0m\u001b[0;34m)\u001b[0m\u001b[0;34m\u001b[0m\u001b[0;34m\u001b[0m\u001b[0m\n\u001b[0m",
      "\u001b[0;31mAttributeError\u001b[0m: 'CustomList' object has no attribute 'append'"
     ]
    }
   ],
   "source": [
    "custom_list.append(100)"
   ]
  },
  {
   "cell_type": "code",
   "execution_count": 44,
   "id": "747fd743",
   "metadata": {},
   "outputs": [
    {
     "ename": "AttributeError",
     "evalue": "'CustomList' object has no attribute 'insert'",
     "output_type": "error",
     "traceback": [
      "\u001b[0;31m---------------------------------------------------------------------------\u001b[0m",
      "\u001b[0;31mAttributeError\u001b[0m                            Traceback (most recent call last)",
      "\u001b[0;32m<ipython-input-44-0a7fe7868bcd>\u001b[0m in \u001b[0;36m<module>\u001b[0;34m\u001b[0m\n\u001b[0;32m----> 1\u001b[0;31m \u001b[0mcustom_list\u001b[0m\u001b[0;34m.\u001b[0m\u001b[0minsert\u001b[0m\u001b[0;34m(\u001b[0m\u001b[0;36m3\u001b[0m\u001b[0;34m,\u001b[0m \u001b[0;36m4\u001b[0m\u001b[0;34m)\u001b[0m\u001b[0;34m\u001b[0m\u001b[0;34m\u001b[0m\u001b[0m\n\u001b[0m",
      "\u001b[0;31mAttributeError\u001b[0m: 'CustomList' object has no attribute 'insert'"
     ]
    }
   ],
   "source": [
    "custom_list.insert(3, 4)"
   ]
  },
  {
   "cell_type": "code",
   "execution_count": 55,
   "id": "d4801f3f",
   "metadata": {},
   "outputs": [],
   "source": [
    "class CustomList:\n",
    "    def __init__(self, number):\n",
    "        self.list = list(range(number))\n",
    "    \n",
    "    def append(self, value):\n",
    "        self.list.append(value)\n",
    "    \n",
    "    def insert(self, index, value):\n",
    "        self.list.insert(index, value)\n",
    "        \n",
    "    def __getitem__(self, index):\n",
    "        return self.list[index]\n",
    "\n",
    "    def __setitem__(self, index, value):\n",
    "        self.list[index] = value\n",
    "    \n",
    "    def __len__(self):\n",
    "        return len(self.list)\n",
    "\n",
    "    def __str__(self):\n",
    "        return str(self.list)\n",
    "    \n",
    "    def __repr__(self):\n",
    "        return str(self.list)\n",
    "custom_list = CustomList(5)"
   ]
  },
  {
   "cell_type": "code",
   "execution_count": 56,
   "id": "81394e2c",
   "metadata": {},
   "outputs": [],
   "source": [
    "custom_list.append(100)\n",
    "custom_list.insert(2, 200)"
   ]
  },
  {
   "cell_type": "code",
   "execution_count": 57,
   "id": "6cd01ca4",
   "metadata": {},
   "outputs": [
    {
     "data": {
      "text/plain": [
       "[0, 1, 200, 2, 3, 4, 100]"
      ]
     },
     "execution_count": 57,
     "metadata": {},
     "output_type": "execute_result"
    }
   ],
   "source": [
    "custom_list"
   ]
  },
  {
   "cell_type": "code",
   "execution_count": 60,
   "id": "b48d7dd3",
   "metadata": {},
   "outputs": [
    {
     "name": "stdout",
     "output_type": "stream",
     "text": [
      "['__class__', '__delattr__', '__dict__', '__dir__', '__doc__', '__eq__', '__format__', '__ge__', '__getattribute__', '__getitem__', '__gt__', '__hash__', '__init__', '__init_subclass__', '__le__', '__len__', '__lt__', '__module__', '__ne__', '__new__', '__reduce__', '__reduce_ex__', '__repr__', '__setattr__', '__setitem__', '__sizeof__', '__str__', '__subclasshook__', '__weakref__', 'append', 'insert']\n",
      "31\n"
     ]
    }
   ],
   "source": [
    "print(dir(CustomList))\n",
    "print(len(dir(CustomList)))"
   ]
  },
  {
   "cell_type": "code",
   "execution_count": 61,
   "id": "c9eab98c",
   "metadata": {},
   "outputs": [
    {
     "data": {
      "text/plain": [
       "['__class__',\n",
       " '__contains__',\n",
       " '__delattr__',\n",
       " '__delitem__',\n",
       " '__dir__',\n",
       " '__doc__',\n",
       " '__eq__',\n",
       " '__format__',\n",
       " '__ge__',\n",
       " '__getattribute__',\n",
       " '__getitem__',\n",
       " '__gt__',\n",
       " '__hash__',\n",
       " '__init__',\n",
       " '__init_subclass__',\n",
       " '__iter__',\n",
       " '__le__',\n",
       " '__len__',\n",
       " '__lt__',\n",
       " '__ne__',\n",
       " '__new__',\n",
       " '__reduce__',\n",
       " '__reduce_ex__',\n",
       " '__repr__',\n",
       " '__setattr__',\n",
       " '__setitem__',\n",
       " '__sizeof__',\n",
       " '__str__',\n",
       " '__subclasshook__',\n",
       " 'clear',\n",
       " 'copy',\n",
       " 'fromkeys',\n",
       " 'get',\n",
       " 'items',\n",
       " 'keys',\n",
       " 'pop',\n",
       " 'popitem',\n",
       " 'setdefault',\n",
       " 'update',\n",
       " 'values']"
      ]
     },
     "execution_count": 61,
     "metadata": {},
     "output_type": "execute_result"
    }
   ],
   "source": [
    "dir(dict)"
   ]
  },
  {
   "cell_type": "code",
   "execution_count": 66,
   "id": "ead5f1d5",
   "metadata": {},
   "outputs": [
    {
     "name": "stdout",
     "output_type": "stream",
     "text": [
      "Help on class dict in module builtins:\n",
      "\n",
      "class dict(object)\n",
      " |  dict() -> new empty dictionary\n",
      " |  dict(mapping) -> new dictionary initialized from a mapping object's\n",
      " |      (key, value) pairs\n",
      " |  dict(iterable) -> new dictionary initialized as if via:\n",
      " |      d = {}\n",
      " |      for k, v in iterable:\n",
      " |          d[k] = v\n",
      " |  dict(**kwargs) -> new dictionary initialized with the name=value pairs\n",
      " |      in the keyword argument list.  For example:  dict(one=1, two=2)\n",
      " |  \n",
      " |  Methods defined here:\n",
      " |  \n",
      " |  __contains__(self, key, /)\n",
      " |      True if the dictionary has the specified key, else False.\n",
      " |  \n",
      " |  __delitem__(self, key, /)\n",
      " |      Delete self[key].\n",
      " |  \n",
      " |  __eq__(self, value, /)\n",
      " |      Return self==value.\n",
      " |  \n",
      " |  __ge__(self, value, /)\n",
      " |      Return self>=value.\n",
      " |  \n",
      " |  __getattribute__(self, name, /)\n",
      " |      Return getattr(self, name).\n",
      " |  \n",
      " |  __getitem__(...)\n",
      " |      x.__getitem__(y) <==> x[y]\n",
      " |  \n",
      " |  __gt__(self, value, /)\n",
      " |      Return self>value.\n",
      " |  \n",
      " |  __init__(self, /, *args, **kwargs)\n",
      " |      Initialize self.  See help(type(self)) for accurate signature.\n",
      " |  \n",
      " |  __iter__(self, /)\n",
      " |      Implement iter(self).\n",
      " |  \n",
      " |  __le__(self, value, /)\n",
      " |      Return self<=value.\n",
      " |  \n",
      " |  __len__(self, /)\n",
      " |      Return len(self).\n",
      " |  \n",
      " |  __lt__(self, value, /)\n",
      " |      Return self<value.\n",
      " |  \n",
      " |  __ne__(self, value, /)\n",
      " |      Return self!=value.\n",
      " |  \n",
      " |  __repr__(self, /)\n",
      " |      Return repr(self).\n",
      " |  \n",
      " |  __setitem__(self, key, value, /)\n",
      " |      Set self[key] to value.\n",
      " |  \n",
      " |  __sizeof__(...)\n",
      " |      D.__sizeof__() -> size of D in memory, in bytes\n",
      " |  \n",
      " |  clear(...)\n",
      " |      D.clear() -> None.  Remove all items from D.\n",
      " |  \n",
      " |  copy(...)\n",
      " |      D.copy() -> a shallow copy of D\n",
      " |  \n",
      " |  get(self, key, default=None, /)\n",
      " |      Return the value for key if key is in the dictionary, else default.\n",
      " |  \n",
      " |  items(...)\n",
      " |      D.items() -> a set-like object providing a view on D's items\n",
      " |  \n",
      " |  keys(...)\n",
      " |      D.keys() -> a set-like object providing a view on D's keys\n",
      " |  \n",
      " |  pop(...)\n",
      " |      D.pop(k[,d]) -> v, remove specified key and return the corresponding value.\n",
      " |      If key is not found, d is returned if given, otherwise KeyError is raised\n",
      " |  \n",
      " |  popitem(...)\n",
      " |      D.popitem() -> (k, v), remove and return some (key, value) pair as a\n",
      " |      2-tuple; but raise KeyError if D is empty.\n",
      " |  \n",
      " |  setdefault(self, key, default=None, /)\n",
      " |      Insert key with a value of default if key is not in the dictionary.\n",
      " |      \n",
      " |      Return the value for key if key is in the dictionary, else default.\n",
      " |  \n",
      " |  update(...)\n",
      " |      D.update([E, ]**F) -> None.  Update D from dict/iterable E and F.\n",
      " |      If E is present and has a .keys() method, then does:  for k in E: D[k] = E[k]\n",
      " |      If E is present and lacks a .keys() method, then does:  for k, v in E: D[k] = v\n",
      " |      In either case, this is followed by: for k in F:  D[k] = F[k]\n",
      " |  \n",
      " |  values(...)\n",
      " |      D.values() -> an object providing a view on D's values\n",
      " |  \n",
      " |  ----------------------------------------------------------------------\n",
      " |  Class methods defined here:\n",
      " |  \n",
      " |  fromkeys(iterable, value=None, /) from builtins.type\n",
      " |      Create a new dictionary with keys from iterable and values set to value.\n",
      " |  \n",
      " |  ----------------------------------------------------------------------\n",
      " |  Static methods defined here:\n",
      " |  \n",
      " |  __new__(*args, **kwargs) from builtins.type\n",
      " |      Create and return a new object.  See help(type) for accurate signature.\n",
      " |  \n",
      " |  ----------------------------------------------------------------------\n",
      " |  Data and other attributes defined here:\n",
      " |  \n",
      " |  __hash__ = None\n",
      "\n"
     ]
    }
   ],
   "source": [
    "help(dict)"
   ]
  },
  {
   "cell_type": "code",
   "execution_count": null,
   "id": "b4b840ef",
   "metadata": {},
   "outputs": [],
   "source": []
  }
 ],
 "metadata": {
  "kernelspec": {
   "display_name": "Python 3",
   "language": "python",
   "name": "python3"
  },
  "language_info": {
   "codemirror_mode": {
    "name": "ipython",
    "version": 3
   },
   "file_extension": ".py",
   "mimetype": "text/x-python",
   "name": "python",
   "nbconvert_exporter": "python",
   "pygments_lexer": "ipython3",
   "version": "3.7.10"
  }
 },
 "nbformat": 4,
 "nbformat_minor": 5
}
