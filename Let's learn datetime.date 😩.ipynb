{
 "cells": [
  {
   "cell_type": "markdown",
   "id": "a1a777c0",
   "metadata": {},
   "source": [
    "# Exploring `datetime` module\n",
    "* Constants available in datetime module:\n",
    "    * `MINYEAR` (value = 1)\n",
    "    * `MAXYEAR` (value = 9999)"
   ]
  },
  {
   "cell_type": "code",
   "execution_count": 1,
   "id": "4feeb7de",
   "metadata": {},
   "outputs": [],
   "source": [
    "import datetime"
   ]
  },
  {
   "cell_type": "code",
   "execution_count": 3,
   "id": "37194089",
   "metadata": {
    "scrolled": true
   },
   "outputs": [
    {
     "name": "stdout",
     "output_type": "stream",
     "text": [
      "Minimum acceptable year: 1\n",
      "Maximum acceptable year: 9999\n"
     ]
    }
   ],
   "source": [
    "print(\"Minimum acceptable year: {}\".format(datetime.MINYEAR))\n",
    "print(\"Maximum acceptable year: {}\".format(datetime.MAXYEAR))\n"
   ]
  },
  {
   "cell_type": "markdown",
   "id": "ddc38160",
   "metadata": {},
   "source": [
    "# datetime.date\n",
    "You can create an object of date as `datetime.date(year, month, day)` because <b>year</b>, <b>month</b>, and <b> day</b> are required arguments to create date object.\n",
    "\n",
    "\n",
    "### Attributes:\n",
    "* `year` (ranging from `1` to `9999`) [`*readonly`]\n",
    "* `month` (ranging from `1` to `12`) [`*readonly`]\n",
    "* `day` (ranging from `1` to `31` depending on month) [`*readonly`]\n",
    "* `min` (`datetime.MINYEAR`, `1`, `1`)\n",
    "* `max` (`datetime.MAXYEAR`, `12`, `31`)\n",
    "* `resolution` (smallest possible difference between two non-equal date objects --> `timedelta(days=1)`)\n",
    "\n",
    "### Methods:\n",
    "* `fromisofromat(string)`: datetime.date\n",
    "* `fromoridal(integer)`: datetime.date\n",
    "* `fromtimestamp(timestamp)`: datetime.date\n",
    "* `today(None)`: date\n"
   ]
  },
  {
   "cell_type": "code",
   "execution_count": 71,
   "id": "26b7d742",
   "metadata": {},
   "outputs": [
    {
     "name": "stdout",
     "output_type": "stream",
     "text": [
      "1996-08-10\n",
      "Year: 1996, Month: 8, Day: 10\n",
      "Min: 0001-01-01, Max: 9999-12-31, Resolution: 1 day, 0:00:00\n"
     ]
    }
   ],
   "source": [
    "date = datetime.date(1996, 8, 10)\n",
    "print(date)\n",
    "print(\"Year: {}, Month: {}, Day: {}\".format(date.year, date.month, date.day))\n",
    "print(\"Min: {}, Max: {}, Resolution: {}\".format(datetime.date.min, datetime.date.max, datetime.date.resolution))"
   ]
  },
  {
   "cell_type": "markdown",
   "id": "9785de95",
   "metadata": {},
   "source": [
    "You can get current date with `datetime.date.today()` by calling `today()` method of `date` class."
   ]
  },
  {
   "cell_type": "code",
   "execution_count": 12,
   "id": "828fab59",
   "metadata": {},
   "outputs": [
    {
     "name": "stdout",
     "output_type": "stream",
     "text": [
      "2021-08-06\n"
     ]
    }
   ],
   "source": [
    "today = datetime.date.today()\n",
    "print(today)"
   ]
  },
  {
   "cell_type": "markdown",
   "id": "9f6b2d9e",
   "metadata": {},
   "source": [
    "<b>ISO Date Format: </b> In this format date is represented as `YYYY-MM-DD`.\n",
    "\n",
    "`datetime.date.fromisoformat(str_of_date_in_iso_format)` - - - > You can create date object by passing date in <b>`ISO format`</b> as a string to `fromisoformat(str_of_date_in_iso_format)` method of `date` class."
   ]
  },
  {
   "cell_type": "code",
   "execution_count": 14,
   "id": "748eebdc",
   "metadata": {},
   "outputs": [
    {
     "name": "stdout",
     "output_type": "stream",
     "text": [
      "1996-08-10\n"
     ]
    }
   ],
   "source": [
    "date = datetime.date.fromisoformat('1996-08-10')\n",
    "print(date)"
   ]
  },
  {
   "cell_type": "markdown",
   "id": "3aa49132",
   "metadata": {},
   "source": [
    "<b>Ordinal Date Format: </b> `integer` number representing date corresponding to a <b><i>`Proleptic Gregorian Ordinal`</i></b>.\n",
    "\n",
    "`datetime.date.fromordinal(int)` - - - > You can create date object from <b>`Proleptic Gregorian Ordinal`</b> as an `integer` using `fromordinal(int)` method of `date` class.  \n",
    "\n",
    "\n",
    "<b><i>For example: </i></b> `728881` integer represents `August 10, 1996`"
   ]
  },
  {
   "cell_type": "code",
   "execution_count": 54,
   "id": "ece49846",
   "metadata": {},
   "outputs": [
    {
     "name": "stdout",
     "output_type": "stream",
     "text": [
      "5471-05-04\n"
     ]
    }
   ],
   "source": [
    "date = datetime.date.fromordinal(1998000) # 728881 ordinal date corresponds to August 10, 1996.\n",
    "print(date)"
   ]
  },
  {
   "cell_type": "markdown",
   "id": "b8d54bda",
   "metadata": {},
   "source": [
    "<b>`Timestamp`</b> is a way to track time as running seconds!"
   ]
  },
  {
   "cell_type": "code",
   "execution_count": 55,
   "id": "265692e4",
   "metadata": {},
   "outputs": [
    {
     "name": "stdout",
     "output_type": "stream",
     "text": [
      "1628233648.93843\n",
      "2021-08-06\n"
     ]
    }
   ],
   "source": [
    "import time\n",
    "timestamp = time.time() # it gives current timestamp.\n",
    "print(timestamp)        # you can see it gives no any meaning.\n",
    "date = datetime.date.fromtimestamp(timestamp) # let's convert it to date so that we can understand.\n",
    "print(date)"
   ]
  },
  {
   "cell_type": "code",
   "execution_count": null,
   "id": "d76d65dc",
   "metadata": {},
   "outputs": [],
   "source": []
  },
  {
   "cell_type": "code",
   "execution_count": null,
   "id": "059fc4f0",
   "metadata": {},
   "outputs": [],
   "source": []
  },
  {
   "cell_type": "code",
   "execution_count": null,
   "id": "350a1bab",
   "metadata": {},
   "outputs": [],
   "source": []
  },
  {
   "cell_type": "code",
   "execution_count": 64,
   "id": "91458293",
   "metadata": {},
   "outputs": [
    {
     "name": "stdout",
     "output_type": "stream",
     "text": [
      "1996-08-10\n",
      "2021-08-06\n",
      "9127 days, 0:00:00\n"
     ]
    }
   ],
   "source": [
    "print(date)\n",
    "print(today)\n",
    "print(today-date)"
   ]
  },
  {
   "cell_type": "code",
   "execution_count": 88,
   "id": "8e596d5c",
   "metadata": {},
   "outputs": [
    {
     "name": "stdout",
     "output_type": "stream",
     "text": [
      "Sat Aug 10 00:00:00 1996\n",
      "(1996, 32, 6)\n",
      "1996-08-10\n",
      "6\n",
      "5\n",
      "10 Aug, 1996\n",
      "728881\n",
      "time.struct_time(tm_year=1996, tm_mon=8, tm_mday=10, tm_hour=0, tm_min=0, tm_sec=0, tm_wday=5, tm_yday=223, tm_isdst=-1)\n",
      "1997-08-10\n",
      "1996-03-10\n",
      "1996-08-12\n"
     ]
    }
   ],
   "source": [
    "print(date.ctime())\n",
    "print(date.isocalendar())\n",
    "print(date.isoformat())\n",
    "print(date.isoweekday())\n",
    "print(date.weekday())\n",
    "print(date.strftime(\"%d %b, %Y\"))\n",
    "\"\"\"\n",
    "    %A : full day name. (i.e. Monday)\n",
    "    %d : date of the month. (i.e. 31)\n",
    "    %D : \n",
    "    %b : \n",
    "    %B : full month name. (i.e. March)\n",
    "    %Y : year in four digits. (i.e. 2021)\n",
    "    %y : last two digits of year. (2021 --> 21)\n",
    "    %m : month in two digits. (March --> 03)\n",
    "    \n",
    "\"\"\"\n",
    "print(date.toordinal())\n",
    "print(date.timetuple())\n",
    "print(date.replace(year=1997))\n",
    "print(date.replace(month = 3))\n",
    "print(date.replace(day=12))\n"
   ]
  },
  {
   "cell_type": "code",
   "execution_count": null,
   "id": "c0f73eca",
   "metadata": {},
   "outputs": [],
   "source": []
  },
  {
   "cell_type": "code",
   "execution_count": 125,
   "id": "b5d8dcd5",
   "metadata": {},
   "outputs": [],
   "source": [
    "#help(datetime.date)"
   ]
  },
  {
   "cell_type": "code",
   "execution_count": 56,
   "id": "ec0c4fd4",
   "metadata": {},
   "outputs": [
    {
     "name": "stdout",
     "output_type": "stream",
     "text": [
      "6\n",
      "8\n",
      "2021\n"
     ]
    }
   ],
   "source": [
    "print(date.day)\n",
    "print(date.month)\n",
    "print(date.year)"
   ]
  },
  {
   "cell_type": "code",
   "execution_count": null,
   "id": "fff24e45",
   "metadata": {},
   "outputs": [],
   "source": []
  },
  {
   "cell_type": "markdown",
   "id": "09373c04",
   "metadata": {},
   "source": [
    "# datetime.datetime\n",
    "\n",
    "### Attributes\n",
    "##### Required Args:\n",
    "* `year` (`datetime.MINYEAR` <= year <= `datetime.MAXYEAR`)\n",
    "* `month` (`1` <= month <= `12`)\n",
    "* `day` (`1` <= day <= `days in a month`)\n",
    "\n",
    "##### Optional Args:\n",
    "* `hour` (`0` <= hour < `24`) default is `0`\n",
    "* `minute` (`0` <= minute < `60`) default is `0`\n",
    "* `second` (`0` <= second < `60`) default is `0`\n",
    "* `microsecond` (`0` <= microsecond < `1000000`) default is `0`\n",
    "* `fold` (`0` or `1`) default is `0`\n",
    "* `tzinfo` (`timezone`) default is `None`\n",
    "\n",
    "\n",
    "### Methods\n",
    "* `today(None)`: datetime.datetime\n",
    "* `now(None)`: datetime.datetime\n",
    "* `utcnow(None)`: datetime.datetime\n",
    "* `fromtimestamp(timestamp)`: datetime.datetime\n",
    "* `fromisoformat(str)`: datetime.datetime\n",
    "* `replace(year[, month, day, ...])`: datetime.datetime\n",
    "\n",
    "\n"
   ]
  },
  {
   "cell_type": "code",
   "execution_count": 91,
   "id": "4695c681",
   "metadata": {},
   "outputs": [],
   "source": [
    "from datetime import datetime as dt"
   ]
  },
  {
   "cell_type": "code",
   "execution_count": 96,
   "id": "eaf4be72",
   "metadata": {},
   "outputs": [
    {
     "name": "stdout",
     "output_type": "stream",
     "text": [
      "1996-08-10 00:00:00\n",
      "Year:  1996\n",
      "Month:  8\n",
      "Day:  10\n",
      "Hour:  0\n",
      "Minute:  0\n",
      "Second:  0\n",
      "Microsecond:  0\n",
      "Fold:  0\n"
     ]
    }
   ],
   "source": [
    "date = dt(1996, 8, 10)\n",
    "print(date)\n",
    "print(\"Year: \",date.year)\n",
    "print(\"Month: \", date.month)\n",
    "print(\"Day: \", date.day)\n",
    "print(\"Hour: \", date.hour)\n",
    "print(\"Minute: \", date.minute)\n",
    "print(\"Second: \", date.second)\n",
    "print(\"Microsecond: \", date.microsecond)\n",
    "print(\"Fold: \", date.fold)"
   ]
  },
  {
   "cell_type": "code",
   "execution_count": 121,
   "id": "05393759",
   "metadata": {},
   "outputs": [
    {
     "name": "stdout",
     "output_type": "stream",
     "text": [
      "2021-08-06 16:12:27.552519\n",
      "2021-08-06 16:12:27.552967\n",
      "2021-08-06 11:12:27.553069\n",
      "2021-08-06 16:12:27.553145\n",
      "2021-08-06\n",
      "16:12:27.552465\n",
      "16:12:27.552465\n",
      "None\n",
      "None\n",
      "None\n",
      "time.struct_time(tm_year=2021, tm_mon=8, tm_mday=6, tm_hour=16, tm_min=12, tm_sec=27, tm_wday=4, tm_yday=218, tm_isdst=0)\n",
      "time.struct_time(tm_year=2021, tm_mon=8, tm_mday=6, tm_hour=16, tm_min=12, tm_sec=27, tm_wday=4, tm_yday=218, tm_isdst=-1)\n",
      "1628248347.552465\n",
      "738008\n",
      "4\n",
      "5\n",
      "(2021, 31, 5)\n",
      "Fri Aug  6 16:12:27 2021\n",
      "2012-08-06 16:12:27.552465\n",
      "Aug\n"
     ]
    }
   ],
   "source": [
    "date = dt.now()\n",
    "print(dt.today())\n",
    "print(dt.now())\n",
    "print(dt.utcnow())\n",
    "print(dt.fromtimestamp(time.time()))\n",
    "print(date.date())\n",
    "print(date.time())\n",
    "print(date.timetz())\n",
    "print(date.utcoffset())\n",
    "print(date.dst())\n",
    "print(date.tzname())\n",
    "print(date.utctimetuple())\n",
    "print(date.timetuple())\n",
    "print(date.timestamp())\n",
    "print(date.toordinal())\n",
    "print(date.weekday())\n",
    "print(date.isoweekday())\n",
    "print(date.isocalendar())\n",
    "print(date.ctime())\n",
    "print(date.replace(year=2012))\n",
    "print(date.strftime(\"%b\"))\n"
   ]
  },
  {
   "cell_type": "code",
   "execution_count": null,
   "id": "c5dde222",
   "metadata": {},
   "outputs": [],
   "source": []
  },
  {
   "cell_type": "code",
   "execution_count": null,
   "id": "4a3eea18",
   "metadata": {},
   "outputs": [],
   "source": []
  },
  {
   "cell_type": "code",
   "execution_count": null,
   "id": "0736ff55",
   "metadata": {},
   "outputs": [],
   "source": []
  },
  {
   "cell_type": "code",
   "execution_count": null,
   "id": "8fb4ffb4",
   "metadata": {},
   "outputs": [],
   "source": []
  },
  {
   "cell_type": "code",
   "execution_count": null,
   "id": "b8cc3a9c",
   "metadata": {},
   "outputs": [],
   "source": []
  },
  {
   "cell_type": "code",
   "execution_count": null,
   "id": "66e6b7fd",
   "metadata": {},
   "outputs": [],
   "source": []
  },
  {
   "cell_type": "code",
   "execution_count": null,
   "id": "d14b2b21",
   "metadata": {},
   "outputs": [],
   "source": []
  },
  {
   "cell_type": "code",
   "execution_count": null,
   "id": "602b38bc",
   "metadata": {},
   "outputs": [],
   "source": []
  },
  {
   "cell_type": "code",
   "execution_count": null,
   "id": "611029a1",
   "metadata": {},
   "outputs": [],
   "source": []
  },
  {
   "cell_type": "code",
   "execution_count": null,
   "id": "439a195f",
   "metadata": {},
   "outputs": [],
   "source": []
  },
  {
   "cell_type": "code",
   "execution_count": null,
   "id": "e1ad2966",
   "metadata": {},
   "outputs": [],
   "source": []
  },
  {
   "cell_type": "code",
   "execution_count": 124,
   "id": "dbb46807",
   "metadata": {},
   "outputs": [],
   "source": [
    "#help(dt)"
   ]
  },
  {
   "cell_type": "markdown",
   "id": "4a4e1cd4",
   "metadata": {},
   "source": [
    "# datetime.time\n",
    "\n",
    "## Attributes\n",
    "* `min` time(`0`, `0`, `0`, `0`)\n",
    "* `max` time(`23`, `59`, `59`, `999999`)\n",
    "* `resolution` (the smallest difference between two non-qual time objects `timedelta(microseconds=1)`)\n",
    "* `hour` (`0` <= hour < `24`) [`*readonly`] default is `0`\n",
    "* `minute` (`0` <= minute < `60`) [`*readonly`] default is `0`\n",
    "* `second` (`0` <= second < `60`) [`*readonly`] default is `0`\n",
    "* `microsecond` (`0` <= microsecond < `1000000`) [`*readonly`] defualt is `0`\n",
    "* `tzinfo` [`*readonly`] default is `None`\n",
    "* `fold` (`0` or `1`) [`*readonly`] default is `0`\n",
    "\n",
    "\n",
    "## Methods:\n",
    "* `fromisoformat(date_string)`: datetime.time\n",
    "* `replace(hour, ...])`: datetime.time\n",
    "* `strftime(format)`: string\n",
    "* `utcoffset()`: \n",
    "* `dst()`: day light saving time object\n",
    "* `tzname()`: string\n",
    "* `gmtime()`\n",
    "* `asctime\n",
    "* \n",
    "* \n",
    "* \n",
    "* \n",
    "\n",
    "\n",
    "\n"
   ]
  },
  {
   "cell_type": "code",
   "execution_count": 122,
   "id": "6095b79e",
   "metadata": {},
   "outputs": [],
   "source": [
    "from datetime import time as t"
   ]
  },
  {
   "cell_type": "code",
   "execution_count": 123,
   "id": "3556c992",
   "metadata": {},
   "outputs": [
    {
     "data": {
      "text/plain": [
       "datetime.time(0, 0)"
      ]
     },
     "execution_count": 123,
     "metadata": {},
     "output_type": "execute_result"
    }
   ],
   "source": [
    "t()"
   ]
  },
  {
   "cell_type": "code",
   "execution_count": 139,
   "id": "304d4d94",
   "metadata": {},
   "outputs": [
    {
     "name": "stdout",
     "output_type": "stream",
     "text": [
      "time.struct_time(tm_year=2021, tm_mon=8, tm_mday=6, tm_hour=18, tm_min=20, tm_sec=45, tm_wday=4, tm_yday=218, tm_isdst=0)\n",
      "time.struct_time(tm_year=2021, tm_mon=8, tm_mday=6, tm_hour=13, tm_min=20, tm_sec=45, tm_wday=4, tm_yday=218, tm_isdst=0)\n",
      "Fri Aug  6 18:20:45 2021\n",
      "1628238045.0\n",
      "time.struct_time(tm_year=1900, tm_mon=1, tm_mday=1, tm_hour=20, tm_min=23, tm_sec=0, tm_wday=0, tm_yday=1, tm_isdst=-1)\n"
     ]
    }
   ],
   "source": [
    "print(time.localtime())\n",
    "print(time.gmtime())\n",
    "print(time.asctime())\n",
    "print(time.mktime(time.gmtime()))\n",
    "print(time.strptime('20:23:00', \"%H:%M:%S\"))\n"
   ]
  },
  {
   "cell_type": "code",
   "execution_count": null,
   "id": "6166245c",
   "metadata": {},
   "outputs": [],
   "source": []
  },
  {
   "cell_type": "code",
   "execution_count": null,
   "id": "01e901f1",
   "metadata": {},
   "outputs": [],
   "source": []
  },
  {
   "cell_type": "code",
   "execution_count": null,
   "id": "8d8884c3",
   "metadata": {},
   "outputs": [],
   "source": []
  },
  {
   "cell_type": "code",
   "execution_count": null,
   "id": "6e82a584",
   "metadata": {},
   "outputs": [],
   "source": []
  },
  {
   "cell_type": "code",
   "execution_count": null,
   "id": "8586d75f",
   "metadata": {},
   "outputs": [],
   "source": []
  },
  {
   "cell_type": "code",
   "execution_count": null,
   "id": "f0656d4e",
   "metadata": {},
   "outputs": [],
   "source": []
  }
 ],
 "metadata": {
  "kernelspec": {
   "display_name": "Python 3",
   "language": "python",
   "name": "python3"
  },
  "language_info": {
   "codemirror_mode": {
    "name": "ipython",
    "version": 3
   },
   "file_extension": ".py",
   "mimetype": "text/x-python",
   "name": "python",
   "nbconvert_exporter": "python",
   "pygments_lexer": "ipython3",
   "version": "3.7.10"
  }
 },
 "nbformat": 4,
 "nbformat_minor": 5
}
