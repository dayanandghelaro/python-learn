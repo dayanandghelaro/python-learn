{
 "cells": [
  {
   "cell_type": "markdown",
   "id": "34d729ba",
   "metadata": {},
   "source": [
    "## JSON - (JavaScript Object Notation)\n",
    "* It's a light weight data interchange format inspired by `JavaScript` <i> object literal syntax </i> (although it's not a strict subset of `JavaScript`)\n",
    "\n",
    "\n",
    "<b> Methods: </b> `json.dump`, `json.dumps`, `json.load`, and `json.loads`.  \n",
    "\n",
    "<b> Classes: </b> `json.JSONEncoder`, and `json.JSONDecoder`.  \n",
    "\n",
    "<b> Exceptions: </b> `json.JSONDecodeError`.  \n",
    "\n",
    "<b> Other Topics: </b> `Character Encodings`, `Infinite and NaN Number Values`, `Repeated Names within an Object`, `Implementation Limitations`, `Command Line Interface`, and `Command Line Options` \n",
    "\n",
    "<b> Related Modules: </b> `marshal`, `pickle`."
   ]
  },
  {
   "cell_type": "code",
   "execution_count": 2,
   "id": "e8722e0a",
   "metadata": {},
   "outputs": [],
   "source": [
    "import json"
   ]
  },
  {
   "cell_type": "code",
   "execution_count": null,
   "id": "4505ebf1",
   "metadata": {},
   "outputs": [],
   "source": []
  },
  {
   "cell_type": "code",
   "execution_count": null,
   "id": "a6241073",
   "metadata": {},
   "outputs": [],
   "source": []
  },
  {
   "cell_type": "code",
   "execution_count": null,
   "id": "47b7f305",
   "metadata": {},
   "outputs": [],
   "source": []
  },
  {
   "cell_type": "code",
   "execution_count": null,
   "id": "d557ba05",
   "metadata": {},
   "outputs": [],
   "source": []
  }
 ],
 "metadata": {
  "kernelspec": {
   "display_name": "Python 3",
   "language": "python",
   "name": "python3"
  },
  "language_info": {
   "codemirror_mode": {
    "name": "ipython",
    "version": 3
   },
   "file_extension": ".py",
   "mimetype": "text/x-python",
   "name": "python",
   "nbconvert_exporter": "python",
   "pygments_lexer": "ipython3",
   "version": "3.7.10"
  }
 },
 "nbformat": 4,
 "nbformat_minor": 5
}
